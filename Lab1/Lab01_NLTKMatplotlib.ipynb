{
 "cells": [
  {
   "cell_type": "code",
   "execution_count": 15,
   "metadata": {},
   "outputs": [],
   "source": [
    "import nltk\n",
    "import matplotlib.pyplot as plt\n",
    "import pandas as pd"
   ]
  },
  {
   "cell_type": "code",
   "execution_count": 16,
   "metadata": {},
   "outputs": [
    {
     "name": "stdout",
     "output_type": "stream",
     "text": [
      "Hey there , this is mayur raycha.\n"
     ]
    }
   ],
   "source": [
    "import re\n",
    "import string\n",
    "from nltk.corpus import stopwords\n",
    "from nltk.stem import PorterStemmer\n",
    "from nltk.tokenize import TweetTokenizer\n",
    "\n",
    "txt = \"Hey there , this is mayur raycha.\"\n",
    "rm_link = re.sub(r'https?:\\/\\/.*[\\r\\n]*', '', txt)\n",
    "rm_link = re.sub(r'#', '', rm_link)\n",
    "print(rm_link)"
   ]
  },
  {
   "cell_type": "code",
   "execution_count": 17,
   "metadata": {},
   "outputs": [
    {
     "name": "stdout",
     "output_type": "stream",
     "text": [
      "[' Tata Motors opposes cut in import tax on electric cars for Tesla.', 'short by Mayur Raycha.']\n"
     ]
    },
    {
     "name": "stderr",
     "output_type": "stream",
     "text": [
      "[nltk_data] Downloading package punkt to C:\\Users\\Mayur\n",
      "[nltk_data]     Raycha\\AppData\\Roaming\\nltk_data...\n",
      "[nltk_data]   Package punkt is already up-to-date!\n"
     ]
    }
   ],
   "source": [
    "from nltk.tokenize import sent_tokenize\n",
    "text=\" Tata Motors opposes cut in import tax on electric cars for Tesla. short by Mayur Raycha.\"\n",
    "nltk.download(\"punkt\")\n",
    "tokenizedText=sent_tokenize(text)\n",
    "print(tokenizedText)"
   ]
  },
  {
   "cell_type": "code",
   "execution_count": 18,
   "metadata": {},
   "outputs": [
    {
     "name": "stdout",
     "output_type": "stream",
     "text": [
      "['Tata', 'Motors', 'opposes', 'cut', 'in', 'import', 'tax', 'on', 'electric', 'cars', 'for', 'Tesla', '.', 'short', 'by', 'Mayur', 'Raycha', '.']\n"
     ]
    }
   ],
   "source": [
    "from nltk.tokenize import word_tokenize\n",
    "tk_word=word_tokenize(text)\n",
    "print(tk_word)"
   ]
  },
  {
   "cell_type": "code",
   "execution_count": 19,
   "metadata": {},
   "outputs": [
    {
     "data": {
      "image/png": "[encoded data removed]",
      "text/plain": [
       "<Figure size 432x288 with 1 Axes>"
      ]
     },
     "metadata": {
      "needs_background": "light"
     },
     "output_type": "display_data"
    }
   ],
   "source": [
    "#frequency distribution\n",
    "from nltk.probability import FreqDist\n",
    "fre_dist = FreqDist(tk_word)\n",
    "fre_dist.most_common(4)\n",
    "\n",
    "# Frequency Distribution Plot\n",
    "import matplotlib.pyplot as plt\n",
    "fre_dist.plot(30, cumulative = False, color = \"red\")\n",
    "plt.show()"
   ]
  },
  {
   "cell_type": "code",
   "execution_count": 20,
   "metadata": {},
   "outputs": [
    {
     "name": "stdout",
     "output_type": "stream",
     "text": [
      "{'of', \"couldn't\", 'ain', 'not', 'these', 're', 'don', 'or', 'into', 'them', 'isn', \"wasn't\", 'll', \"that'll\", 'are', 'their', 'be', 'how', 'can', 'both', 'haven', 'if', 'again', \"won't\", 'when', 'shan', 'mightn', 'ours', 'was', 'on', 'wasn', \"needn't\", \"you've\", 'herself', 'through', 'to', \"you're\", 'needn', 'those', 'with', 'an', 'few', 'what', 'that', 'myself', 'only', 'y', 'who', 'does', 'did', 'hadn', 'ourselves', 'against', \"you'd\", 'own', 't', 'once', 'didn', 'me', \"she's\", \"hasn't\", 'over', \"it's\", 'up', 'we', 'just', \"mustn't\", 'then', \"wouldn't\", 'here', 'any', 'should', \"aren't\", 'ma', 'will', 'himself', \"doesn't\", 'couldn', 'shouldn', 'off', \"mightn't\", 'has', \"shouldn't\", 'm', 'o', \"isn't\", 'themselves', \"didn't\", 'our', 'while', 'further', 'being', 'yourselves', 'had', 'doing', 'my', 's', 'doesn', 'each', 'yourself', 'under', \"haven't\", \"shan't\", 'been', 'where', \"don't\", 'below', 'have', 'such', 'why', 'whom', 'and', 'above', 'same', 'aren', 'mustn', 'the', 'between', 'it', 'in', \"hadn't\", 'yours', 'hers', 'am', 'very', 'at', 'more', 'were', 'until', 'most', 'having', 'i', 'which', 'other', 'by', 'about', 'there', 'for', \"should've\", 'during', 'its', \"weren't\", 'now', 'after', 'him', 've', 'is', 'won', 'a', 'down', 'as', 'than', 'no', 'some', 'd', 'from', 'your', 'but', 'too', 'all', 'theirs', 'weren', 'out', 'nor', 'itself', 'do', 'wouldn', \"you'll\", 'he', 'his', 'you', 'she', 'they', 'before', 'this', 'because', 'hasn', 'her', 'so'}\n"
     ]
    },
    {
     "name": "stderr",
     "output_type": "stream",
     "text": [
      "[nltk_data] Downloading package stopwords to C:\\Users\\Mayur\n",
      "[nltk_data]     Raycha\\AppData\\Roaming\\nltk_data...\n",
      "[nltk_data]   Package stopwords is already up-to-date!\n"
     ]
    }
   ],
   "source": [
    "# stop words\n",
    "from nltk.corpus import stopwords\n",
    "nltk.download(\"stopwords\")\n",
    "stop_words = set(stopwords.words(\"english\"))\n",
    "print(stop_words)"
   ]
  },
  {
   "cell_type": "code",
   "execution_count": 21,
   "metadata": {},
   "outputs": [
    {
     "name": "stdout",
     "output_type": "stream",
     "text": [
      "Tokenized Sentence: ['Tata', 'Motors', 'opposes', 'cut', 'in', 'import', 'tax', 'on', 'electric', 'cars', 'for', 'Tesla', '.', 'short', 'by', 'Mayur', 'Raycha', '.']\n",
      "Filterd Sentence: ['Tata', 'Motors', 'opposes', 'cut', 'import', 'tax', 'electric', 'cars', 'Tesla', '.', 'short', 'Mayur', 'Raycha', '.']\n"
     ]
    }
   ],
   "source": [
    "filtered_sent=[]\n",
    "for words in tk_word:\n",
    "    if words not in stop_words:\n",
    "        filtered_sent.append(words)\n",
    "print(\"Tokenized Sentence:\",tk_word)\n",
    "print(\"Filterd Sentence:\",filtered_sent)"
   ]
  },
  {
   "cell_type": "code",
   "execution_count": 22,
   "metadata": {},
   "outputs": [
    {
     "name": "stdout",
     "output_type": "stream",
     "text": [
      "Filtered Sentence: ['Tata', 'Motors', 'opposes', 'cut', 'import', 'tax', 'electric', 'cars', 'Tesla', '.', 'short', 'Mayur', 'Raycha', '.']\n",
      "Stemmed Sentence: ['tata', 'motor', 'oppos', 'cut', 'import', 'tax', 'electr', 'car', 'tesla', '.', 'short', 'mayur', 'raycha', '.']\n"
     ]
    }
   ],
   "source": [
    "# stemming\n",
    "from nltk.stem import PorterStemmer\n",
    "from nltk.tokenize import sent_tokenize, word_tokenize\n",
    "\n",
    "ps = PorterStemmer()\n",
    "\n",
    "st_words=[]\n",
    "for w in filtered_sent:\n",
    "    st_words.append(ps.stem(w))\n",
    "\n",
    "print(\"Filtered Sentence:\",filtered_sent)\n",
    "print(\"Stemmed Sentence:\",st_words)"
   ]
  },
  {
   "cell_type": "code",
   "execution_count": 23,
   "metadata": {},
   "outputs": [
    {
     "name": "stdout",
     "output_type": "stream",
     "text": [
      "Lemmatized Word: happy\n",
      "Stemmed Word: happi\n"
     ]
    },
    {
     "name": "stderr",
     "output_type": "stream",
     "text": [
      "[nltk_data] Downloading package wordnet to C:\\Users\\Mayur\n",
      "[nltk_data]     Raycha\\AppData\\Roaming\\nltk_data...\n",
      "[nltk_data]   Package wordnet is already up-to-date!\n"
     ]
    }
   ],
   "source": [
    "#Lexicon Normalization\n",
    "#performing stemming and Lemmatization\n",
    "\n",
    "from nltk.stem.wordnet import WordNetLemmatizer\n",
    "nltk.download('wordnet')\n",
    "wlem = WordNetLemmatizer()\n",
    "\n",
    "from nltk.stem.porter import PorterStemmer\n",
    "pstem = PorterStemmer()\n",
    "\n",
    "word = \"happy\"\n",
    "print(\"Lemmatized Word:\",wlem.lemmatize(word,\"v\"))\n",
    "print(\"Stemmed Word:\",pstem.stem(word))"
   ]
  },
  {
   "cell_type": "code",
   "execution_count": null,
   "metadata": {},
   "outputs": [],
   "source": []
  }
 ],
 "metadata": {
  "kernelspec": {
   "display_name": "Python 3",
   "language": "python",
   "name": "python3"
  },
  "language_info": {
   "codemirror_mode": {
    "name": "ipython",
    "version": 3
   },
   "file_extension": ".py",
   "mimetype": "text/x-python",
   "name": "python",
   "nbconvert_exporter": "python",
   "pygments_lexer": "ipython3",
   "version": "3.7.1"
  }
 },
 "nbformat": 4,
 "nbformat_minor": 5
}
