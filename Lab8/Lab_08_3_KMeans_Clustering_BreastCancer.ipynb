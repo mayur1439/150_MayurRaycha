{
 "cells": [
  {
   "cell_type": "markdown",
   "metadata": {
    "id": "bJTjaM75DPmE"
   },
   "source": [
    "## Write a python program to perform K-Means clustering on Breast Cancer Data"
   ]
  },
  {
   "cell_type": "code",
   "execution_count": 1,
   "metadata": {
    "id": "Y9eI8rV7DSBD"
   },
   "outputs": [],
   "source": [
    "import numpy as np \n",
    "import pandas as pd \n",
    "from sklearn import datasets\n",
    "from sklearn.cluster import KMeans\n",
    "from sklearn.metrics import accuracy_score, confusion_matrix\n",
    "import matplotlib.pyplot as plt"
   ]
  },
  {
   "cell_type": "code",
   "execution_count": 2,
   "metadata": {
    "colab": {
     "base_uri": "https://localhost:8080/"
    },
    "id": "-xHOOElmDTeb",
    "outputId": "116b443e-fd8c-4456-f3a0-33f92a2631c4"
   },
   "outputs": [
    {
     "name": "stdout",
     "output_type": "stream",
     "text": [
      "(569, 30)\n",
      "(569,)\n",
      "['mean radius' 'mean texture' 'mean perimeter' 'mean area'\n",
      " 'mean smoothness' 'mean compactness' 'mean concavity'\n",
      " 'mean concave points' 'mean symmetry' 'mean fractal dimension'\n",
      " 'radius error' 'texture error' 'perimeter error' 'area error'\n",
      " 'smoothness error' 'compactness error' 'concavity error'\n",
      " 'concave points error' 'symmetry error' 'fractal dimension error'\n",
      " 'worst radius' 'worst texture' 'worst perimeter' 'worst area'\n",
      " 'worst smoothness' 'worst compactness' 'worst concavity'\n",
      " 'worst concave points' 'worst symmetry' 'worst fractal dimension']\n",
      "['malignant' 'benign']\n"
     ]
    }
   ],
   "source": [
    "dataset=datasets.load_breast_cancer()\n",
    "print(dataset.data.shape)\n",
    "print(dataset.target.shape)\n",
    "print(dataset.feature_names)\n",
    "print(dataset.target_names)"
   ]
  },
  {
   "cell_type": "code",
   "execution_count": 3,
   "metadata": {
    "colab": {
     "base_uri": "https://localhost:8080/",
     "height": 279
    },
    "id": "YKLUqJoyDYFD",
    "outputId": "d622c8fc-9168-4b80-a724-49de97e91f81"
   },
   "outputs": [
    {
     "data": {
      "image/png": "[encoded data removed]",
      "text/plain": [
       "<Figure size 432x288 with 1 Axes>"
      ]
     },
     "metadata": {
      "needs_background": "light"
     },
     "output_type": "display_data"
    }
   ],
   "source": [
    "# 0 for benign and 1 for malignant\n",
    "\n",
    "plt.scatter(dataset.data[:, 0], dataset.target, c='orange', marker='*')\n",
    "plt.xlabel('Features')\n",
    "plt.ylabel('Cancer Type')\n",
    "plt.show()"
   ]
  },
  {
   "cell_type": "code",
   "execution_count": 4,
   "metadata": {
    "colab": {
     "base_uri": "https://localhost:8080/"
    },
    "id": "nPxnLAgpDczz",
    "outputId": "38537da4-9a24-48fc-fe31-b77b8bf657e8"
   },
   "outputs": [
    {
     "name": "stdout",
     "output_type": "stream",
     "text": [
      "[1 1 1 0 1 0 1 0 0 0 1 1 1 0 0 0 0 1 2 0 0 0 0 2 1 1 0 1 1 1 1 0 1 1 1 1 0\n",
      " 0 0 0 0 0 1 0 0 1 0 0 0 0 0 0 0 1 0 0 1 0 0 0 0 0 0 0 0 0 0 0 0 0 1 0 1 0\n",
      " 0 1 0 1 1 0 0 0 2 1 0 1 0 1 0 0 0 0 0 0 0 1 0 0 0 0 0 0 0 0 0 0 0 0 2 0 0\n",
      " 0 0 0 0 0 0 0 1 1 0 1 2 0 0 0 0 1 0 1 0 1 1 0 1 0 0 0 0 0 0 1 0 0 0 0 0 0\n",
      " 0 0 0 0 0 0 0 0 1 1 0 0 0 1 1 0 2 0 0 1 1 0 0 0 0 0 0 0 0 0 0 0 2 1 1 0 0\n",
      " 0 1 0 0 0 0 0 0 0 0 0 0 1 1 0 0 1 1 0 0 0 0 1 0 0 1 0 2 1 0 0 0 0 1 2 0 0\n",
      " 0 0 0 0 0 0 0 0 1 0 0 1 0 0 2 1 0 1 0 0 0 0 1 0 0 0 0 0 1 0 1 1 1 0 1 0 1\n",
      " 0 1 1 1 0 1 2 0 0 0 0 0 0 2 0 1 0 0 1 0 0 1 0 1 0 0 0 0 0 0 0 0 0 0 0 0 0\n",
      " 0 0 0 0 1 0 1 0 0 0 0 0 0 0 0 0 0 0 0 0 0 1 0 0 0 1 0 1 0 0 0 0 1 0 0 0 0\n",
      " 0 0 1 0 1 0 2 0 0 0 1 0 0 0 0 0 0 0 0 2 0 0 0 0 0 0 0 0 0 0 0 0 1 1 0 2 2\n",
      " 1 0 1 1 0 0 0 0 0 0 0 0 0 0 0 0 0 0 0 1 0 0 1 1 0 0 0 0 0 0 1 0 0 0 0 0 0\n",
      " 0 1 0 0 0 0 0 0 0 0 1 0 0 0 0 0 0 0 0 0 0 0 0 0 0 1 1 0 0 0 0 0 0 0 1 0 0\n",
      " 1 0 1 0 0 1 0 1 0 0 0 0 0 0 0 0 1 2 0 0 0 0 0 0 1 0 0 0 0 0 0 0 0 0 0 0 0\n",
      " 0 0 0 0 0 0 1 0 1 0 1 1 0 0 0 0 0 1 1 0 0 0 2 0 0 0 0 0 0 0 0 0 0 0 0 1 1\n",
      " 0 0 0 2 0 0 0 0 0 0 0 0 0 0 0 1 0 1 0 0 0 0 0 0 0 0 0 0 0 0 0 0 0 0 0 0 0\n",
      " 0 0 0 0 0 0 0 0 1 1 1 1 1 0]\n"
     ]
    }
   ],
   "source": [
    "kmeans = KMeans(n_clusters=3, random_state=150)\n",
    "prediction = kmeans.fit_predict(dataset.data)\n",
    "print(prediction)"
   ]
  },
  {
   "cell_type": "code",
   "execution_count": 5,
   "metadata": {
    "colab": {
     "base_uri": "https://localhost:8080/"
    },
    "id": "ysFYKizDDeX8",
    "outputId": "723d90c6-08e4-4835-bbfe-e1269930ff6c"
   },
   "outputs": [
    {
     "name": "stdout",
     "output_type": "stream",
     "text": [
      "[[1.24751725e+01 1.84901166e+01 8.05764103e+01 4.88859207e+02\n",
      "  9.49148252e-02 9.07750117e-02 6.15064119e-02 3.29390303e-02\n",
      "  1.77986946e-01 6.35734266e-02 3.01556410e-01 1.21532704e+00\n",
      "  2.13489441e+00 2.33540979e+01 7.15913287e-03 2.33434848e-02\n",
      "  2.84384956e-02 1.05576713e-02 2.06707646e-02 3.74588648e-03\n",
      "  1.39398578e+01 2.45990443e+01 9.12271096e+01 6.09272261e+02\n",
      "  1.30029254e-01 2.22372145e-01 2.16939503e-01 9.04745711e-02\n",
      "  2.82924942e-01 8.33942191e-02]\n",
      " [1.85285124e+01 2.15790909e+01 1.22283471e+02 1.07481240e+03\n",
      "  1.00261240e-01 1.41826612e-01 1.61977355e-01 9.20814050e-02\n",
      "  1.91676860e-01 6.06204959e-02 6.49142149e-01 1.21641983e+00\n",
      "  4.56371901e+00 7.68210744e+01 6.61174380e-03 3.13276529e-02\n",
      "  4.16239669e-02 1.55374463e-02 2.01668595e-02 3.96714050e-03\n",
      "  2.23823967e+01 2.87747107e+01 1.49064463e+02 1.54647107e+03\n",
      "  1.39227107e-01 3.46117851e-01 4.31357851e-01 1.82432645e-01\n",
      "  3.15462810e-01 8.62268595e-02]\n",
      " [2.34015789e+01 2.27621053e+01 1.56147368e+02 1.72942105e+03\n",
      "  1.04154211e-01 1.71922105e-01 2.39015789e-01 1.34857895e-01\n",
      "  1.85884211e-01 5.91452632e-02 1.19100000e+00 1.25407895e+00\n",
      "  8.56357895e+00 1.91449474e+02 7.10673684e-03 3.64242105e-02\n",
      "  4.79426316e-02 1.59331579e-02 2.00326316e-02 3.80478947e-03\n",
      "  2.99315789e+01 3.02952632e+01 2.03073684e+02 2.76584211e+03\n",
      "  1.41510526e-01 3.89415789e-01 5.05994737e-01 2.27526316e-01\n",
      "  2.89852632e-01 8.18736842e-02]]\n"
     ]
    }
   ],
   "source": [
    "kmeans.cluster_centers_.shape\n",
    "print(kmeans.cluster_centers_)"
   ]
  },
  {
   "cell_type": "code",
   "execution_count": 6,
   "metadata": {
    "colab": {
     "base_uri": "https://localhost:8080/",
     "height": 281
    },
    "id": "Si_Ixli6DgCV",
    "outputId": "488e3ef7-566a-4839-870b-8d6341b0e826"
   },
   "outputs": [
    {
     "data": {
      "image/png": "[encoded data removed]",
      "text/plain": [
       "<Figure size 432x288 with 1 Axes>"
      ]
     },
     "metadata": {
      "needs_background": "light"
     },
     "output_type": "display_data"
    }
   ],
   "source": [
    "plt.scatter(dataset.data[:, 0], dataset.target, c='orange', marker='*')\n",
    "plt.scatter(kmeans.cluster_centers_[:, 0], kmeans.cluster_centers_[:, 1], c='green', marker='+')\n",
    "plt.title('Data points and cluster centroids')\n",
    "plt.show()"
   ]
  },
  {
   "cell_type": "code",
   "execution_count": 7,
   "metadata": {
    "id": "d_CxG_zRDnaM"
   },
   "outputs": [],
   "source": [
    "from scipy.stats import mode\n",
    "labels = np.zeros_like(prediction)\n",
    "for i in range(10):\n",
    "  mask = (prediction == i)\n",
    "  labels[mask] = mode(dataset.target[mask])[0]"
   ]
  },
  {
   "cell_type": "code",
   "execution_count": 8,
   "metadata": {
    "colab": {
     "base_uri": "https://localhost:8080/",
     "height": 296
    },
    "id": "JIVOhUgID18k",
    "outputId": "cf55f03e-cc3d-47ba-e8be-d44bb7905d22"
   },
   "outputs": [
    {
     "data": {
      "text/plain": [
       "Text(91.68, 0.5, 'predicted label')"
      ]
     },
     "execution_count": 8,
     "metadata": {},
     "output_type": "execute_result"
    },
    {
     "data": {
      "image/png": "[encoded data removed]",
      "text/plain": [
       "<Figure size 432x288 with 1 Axes>"
      ]
     },
     "metadata": {
      "needs_background": "light"
     },
     "output_type": "display_data"
    }
   ],
   "source": [
    "import seaborn as sns\n",
    "\n",
    "mat = confusion_matrix(dataset.target, labels)\n",
    "ax = sns.heatmap(mat.T, square=True, annot=True, cbar=False, xticklabels=dataset.target_names, yticklabels=dataset.target_names)\n",
    "plt.xlabel('true label')\n",
    "plt.ylabel('predicted label')"
   ]
  },
  {
   "cell_type": "code",
   "execution_count": 9,
   "metadata": {
    "colab": {
     "base_uri": "https://localhost:8080/"
    },
    "id": "gnpjUy_WYb3M",
    "outputId": "e31642f0-ed18-4de0-d189-99ebeb5af2b3"
   },
   "outputs": [
    {
     "data": {
      "text/plain": [
       "0.8664323374340949"
      ]
     },
     "execution_count": 9,
     "metadata": {},
     "output_type": "execute_result"
    }
   ],
   "source": [
    "accuracy_score(dataset.target, labels) "
   ]
  },
  {
   "cell_type": "code",
   "execution_count": null,
   "metadata": {},
   "outputs": [],
   "source": []
  }
 ],
 "metadata": {
  "colab": {
   "name": "Lab_08_KMeans_Clustering_BreastCancer.ipynb",
   "provenance": []
  },
  "kernelspec": {
   "display_name": "Python 3",
   "language": "python",
   "name": "python3"
  },
  "language_info": {
   "codemirror_mode": {
    "name": "ipython",
    "version": 3
   },
   "file_extension": ".py",
   "mimetype": "text/x-python",
   "name": "python",
   "nbconvert_exporter": "python",
   "pygments_lexer": "ipython3",
   "version": "3.7.1"
  }
 },
 "nbformat": 4,
 "nbformat_minor": 2
}
